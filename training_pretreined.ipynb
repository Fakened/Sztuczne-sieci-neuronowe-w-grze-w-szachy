{
 "cells": [
  {
   "cell_type": "markdown",
   "metadata": {},
   "source": [
    "Imports"
   ]
  },
  {
   "cell_type": "code",
   "execution_count": null,
   "metadata": {},
   "outputs": [],
   "source": [
    "import os\n",
    "import numpy as np\n",
    "import chess\n",
    "import chess.pgn\n",
    "import chess.engine\n",
    "import tensorflow as tf\n",
    "from tensorflow.keras.models import Sequential\n",
    "from tensorflow.keras.layers import Dense, Dropout, Conv2D, Flatten, Input"
   ]
  },
  {
   "cell_type": "markdown",
   "metadata": {},
   "source": [
    "Const and hiperparameters"
   ]
  },
  {
   "cell_type": "code",
   "execution_count": null,
   "metadata": {},
   "outputs": [],
   "source": [
    "LEARNING_RATE = 0.001\n",
    "STOCKFISH_PATH = 'stockfish/stockfish-windows-x86-64.exe'"
   ]
  },
  {
   "cell_type": "markdown",
   "metadata": {},
   "source": [
    "PGN to position"
   ]
  },
  {
   "cell_type": "code",
   "execution_count": null,
   "metadata": {},
   "outputs": [],
   "source": [
    "def parse_pgn_files(pgn_directory):\n",
    "    positions = []\n",
    "    for filename in os.listdir(pgn_directory):\n",
    "        if filename.endswith(\".pgn\"):\n",
    "            with open(os.path.join(pgn_directory, filename), 'r', encoding='utf-8') as pgn_file:\n",
    "                while True:\n",
    "                    game = chess.pgn.read_game(pgn_file)\n",
    "                    if game is None:\n",
    "                        break\n",
    "                    board = game.board()\n",
    "                    for move in game.mainline_moves():\n",
    "                        board.push(move)\n",
    "                        fen = board.fen()\n",
    "                        positions.append(fen)\n",
    "\n",
    "    return positions"
   ]
  },
  {
   "cell_type": "markdown",
   "metadata": {},
   "source": [
    "Position to input"
   ]
  },
  {
   "cell_type": "code",
   "execution_count": null,
   "metadata": {},
   "outputs": [],
   "source": [
    "def state_to_input(board):\n",
    "    planes = np.zeros((8, 8, 12))\n",
    "    for square in chess.SQUARES:\n",
    "        piece = board.piece_at(square)\n",
    "        if piece:\n",
    "            piece_type = piece.piece_type - 1  # Typ figury od 0 do 5\n",
    "            color = 0 if piece.color == chess.WHITE else 6  # Białe: 0-5, Czarne: 6-11\n",
    "            row = 7 - chess.square_rank(square)\n",
    "            col = chess.square_file(square)\n",
    "            planes[row, col, piece_type + color] = 1\n",
    "    return planes"
   ]
  },
  {
   "cell_type": "markdown",
   "metadata": {},
   "source": [
    "Engine evaluation"
   ]
  },
  {
   "cell_type": "code",
   "execution_count": null,
   "metadata": {},
   "outputs": [],
   "source": [
    "def get_engine_evaluation(board, stockfish_path=STOCKFISH_PATH):\n",
    "    with chess.engine.SimpleEngine.popen_uci(stockfish_path) as engine:\n",
    "        info = engine.analyse(board, chess.engine.Limit(depth=10))\n",
    "        score = info[\"score\"].white().score(mate_score=10000)\n",
    "        engine.quit()\n",
    "    return score / 100.0  "
   ]
  },
  {
   "cell_type": "markdown",
   "metadata": {},
   "source": [
    "Neural nertwork"
   ]
  },
  {
   "cell_type": "code",
   "execution_count": null,
   "metadata": {},
   "outputs": [],
   "source": [
    "def build_pretrained_model(input_shape=(8, 8, 12)):\n",
    "    model = Sequential()\n",
    "    model.add(Input(shape=input_shape))\n",
    "    model.add(Conv2D(64, kernel_size=3, activation='relu', padding='same'))\n",
    "    model.add(Conv2D(64, kernel_size=3, activation='relu', padding='same'))\n",
    "    model.add(Flatten())\n",
    "    model.add(Dense(256, activation='relu'))\n",
    "    model.add(Dropout(0.3))\n",
    "    model.add(Dense(1, activation='linear'))\n",
    "    optimizer = tf.keras.optimizers.AdamW(learning_rate=LEARNING_RATE)\n",
    "    model.compile(optimizer=optimizer, loss='mean_squared_error')\n",
    "    return model"
   ]
  },
  {
   "cell_type": "markdown",
   "metadata": {},
   "source": [
    "Preparation"
   ]
  },
  {
   "cell_type": "code",
   "execution_count": null,
   "metadata": {},
   "outputs": [],
   "source": [
    "positions = parse_pgn_files('pgn_files/')\n",
    "\n",
    "X = []\n",
    "y = []"
   ]
  },
  {
   "cell_type": "code",
   "execution_count": null,
   "metadata": {},
   "outputs": [],
   "source": [
    "for idx, fen in enumerate(positions):\n",
    "    board = chess.Board(fen)\n",
    "    input_state = state_to_input(board)\n",
    "    X.append(input_state)\n",
    "    evaluation = get_engine_evaluation(board)\n",
    "    y.append(evaluation)\n",
    "    if (idx + 1) % 100 == 0:\n",
    "    print(f'Przetworzono {idx + 1}/{len(positions)} pozycji')\n",
    "\n",
    "\n",
    "X = np.array(X)\n",
    "y = np.array(y)"
   ]
  },
  {
   "cell_type": "markdown",
   "metadata": {},
   "source": [
    "Training"
   ]
  },
  {
   "cell_type": "code",
   "execution_count": null,
   "metadata": {},
   "outputs": [],
   "source": [
    "model = build_pretrained_model()\n",
    "model.fit(X, y, epochs=10, batch_size=64, validation_split=0.1)\n",
    "\n",
    "model.save('pretrained_model.h5')"
   ]
  }
 ],
 "metadata": {
  "kernelspec": {
   "display_name": "Python 3",
   "language": "python",
   "name": "python3"
  },
  "language_info": {
   "codemirror_mode": {
    "name": "ipython",
    "version": 3
   },
   "file_extension": ".py",
   "mimetype": "text/x-python",
   "name": "python",
   "nbconvert_exporter": "python",
   "pygments_lexer": "ipython3",
   "version": "3.12.6"
  }
 },
 "nbformat": 4,
 "nbformat_minor": 2
}
